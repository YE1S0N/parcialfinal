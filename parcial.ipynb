{
  "nbformat": 4,
  "nbformat_minor": 0,
  "metadata": {
    "colab": {
      "provenance": [],
      "authorship_tag": "ABX9TyOQfnggByOHk6gGiHHpvt6L",
      "include_colab_link": true
    },
    "kernelspec": {
      "name": "python3",
      "display_name": "Python 3"
    },
    "language_info": {
      "name": "python"
    }
  },
  "cells": [
    {
      "cell_type": "markdown",
      "metadata": {
        "id": "view-in-github",
        "colab_type": "text"
      },
      "source": [
        "<a href=\"https://colab.research.google.com/github/YE1S0N/parcialfinal/blob/main/parcial.ipynb\" target=\"_parent\"><img src=\"https://colab.research.google.com/assets/colab-badge.svg\" alt=\"Open In Colab\"/></a>"
      ]
    },
    {
      "cell_type": "code",
      "source": [
        "import random\n",
        "D = [random.randint(1, 25) for _ in range(9)]\n",
        "print(\"Números generados:\", D)\n",
        "p = [a for a in D if a % 2 == 0]\n",
        "i = [a for a in D if a % 2 != 0]\n",
        "print(\"pares:\", p)\n",
        "print(\"impares:\",i)"
      ],
      "metadata": {
        "id": "ktrmFoF02oUA",
        "outputId": "049d4d7b-fba8-46f0-e33c-a3d24c4b3255",
        "colab": {
          "base_uri": "https://localhost:8080/"
        }
      },
      "execution_count": 118,
      "outputs": [
        {
          "output_type": "stream",
          "name": "stdout",
          "text": [
            "Números generados: [19, 20, 7, 24, 5, 12, 17, 5, 11]\n",
            "pares: [20, 24, 12]\n",
            "impares: [19, 7, 5, 17, 5, 11]\n"
          ]
        }
      ]
    },
    {
      "cell_type": "code",
      "source": [
        "import random\n",
        "op = [\"piedra\",\"papel\",\"tijeras\"]\n",
        "D = input(\"Que lanzas:\")\n",
        "while op != op:\n",
        "  D = input(\"Que lanzas:\")\n",
        "computadora = random.choice(op)\n",
        "print(f\"yo elegi: {D}\")\n",
        "print(f\"la computadira eligio: {computadora}\")\n",
        "if D == computadora:\n",
        "  print(\"Empate\")\n",
        "if (D == \"piedra\" and computadora == \"papel\") or (D == \"papel\" and computadora == \"tijeras\") and (D == tijeras and computadora == piedra) :\n",
        "  print(\"perdiste\")\n",
        "elif (D == \"piedra\" and computadora == \"tijeras\") or (D == \"tijeras\" and computadora == \"papel\") and (D == \"papel\" and computadora == \"piedra\" ) :\n",
        "  print(\"ganaste\")"
      ],
      "metadata": {
        "id": "lDCFLbQz8AfO",
        "outputId": "4bb96809-b1ab-447d-c2c9-7403bbefe514",
        "colab": {
          "base_uri": "https://localhost:8080/"
        }
      },
      "execution_count": 119,
      "outputs": [
        {
          "output_type": "stream",
          "name": "stdout",
          "text": [
            "Que lanzas:piedra\n",
            "yo elegi: piedra\n",
            "la computadira eligio: piedra\n",
            "Empate\n"
          ]
        }
      ]
    },
    {
      "cell_type": "code",
      "source": [],
      "metadata": {
        "id": "AlRGBZqMttHH"
      },
      "execution_count": null,
      "outputs": []
    },
    {
      "cell_type": "code",
      "source": [],
      "metadata": {
        "id": "rZtKvWfFAsE5"
      },
      "execution_count": 117,
      "outputs": []
    }
  ]
}